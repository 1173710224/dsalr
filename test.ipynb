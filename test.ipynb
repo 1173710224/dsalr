{
 "cells": [
  {
   "cell_type": "code",
   "execution_count": 55,
   "metadata": {},
   "outputs": [
    {
     "name": "stdout",
     "output_type": "stream",
     "text": [
      "Using downloaded and verified file: data/SVHN/train_32x32.mat\n"
     ]
    }
   ],
   "source": [
    "from utils import Data\n",
    "from const import *\n",
    "from torchvision import datasets, transforms\n",
    "train_dataset = datasets.SVHN(root=\"data/SVHN/\", split=\"train\",\n",
    "                                 download=True)\n"
   ]
  },
  {
   "cell_type": "code",
   "execution_count": 65,
   "metadata": {},
   "outputs": [
    {
     "name": "stdout",
     "output_type": "stream",
     "text": [
      "(73257, 3, 32, 32)\n",
      "0.4376821219921112 0.4437697231769562 0.4728044271469116\n",
      "0.19803012907505035 0.2010156363248825 0.19703614711761475\n"
     ]
    }
   ],
   "source": [
    "print(train_dataset.data.shape)\n",
    "print(transforms.ToTensor()(train_dataset.data[:, 0, :, :]).mean().item(), transforms.ToTensor()(\n",
    "    train_dataset.data[:, 1, :, :]).mean().item(), transforms.ToTensor()(train_dataset.data[:, 2, :, :]).mean().item())\n",
    "print(transforms.ToTensor()(train_dataset.data[:, 0, :, :]).std().item(), transforms.ToTensor()(\n",
    "    train_dataset.data[:, 1, :, :]).std().item(), transforms.ToTensor()(train_dataset.data[:, 2, :, :]).std().item())"
   ]
  }
 ],
 "metadata": {
  "interpreter": {
   "hash": "adb185272c58cef8f5ac16c0fe7ab4932aa7a03f171dfbe06ccc99104d35f5f3"
  },
  "kernelspec": {
   "display_name": "Python 3.8.10 64-bit ('test': conda)",
   "language": "python",
   "name": "python3"
  },
  "language_info": {
   "codemirror_mode": {
    "name": "ipython",
    "version": 3
   },
   "file_extension": ".py",
   "mimetype": "text/x-python",
   "name": "python",
   "nbconvert_exporter": "python",
   "pygments_lexer": "ipython3",
   "version": "3.8.10"
  },
  "orig_nbformat": 4
 },
 "nbformat": 4,
 "nbformat_minor": 2
}
