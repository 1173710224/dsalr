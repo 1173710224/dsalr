{
 "cells": [
  {
   "cell_type": "code",
   "execution_count": null,
   "metadata": {},
   "outputs": [
    {
     "ename": "Error",
     "evalue": "Session cannot generate requests",
     "output_type": "error",
     "traceback": [
      "Error: Session cannot generate requests",
      "at S.executeCodeCell (/home/bozhou/.vscode-server/extensions/ms-toolsai.jupyter-2021.10.1101450599/out/client/extension.js:66:301742)",
      "at S.execute (/home/bozhou/.vscode-server/extensions/ms-toolsai.jupyter-2021.10.1101450599/out/client/extension.js:66:300732)",
      "at S.start (/home/bozhou/.vscode-server/extensions/ms-toolsai.jupyter-2021.10.1101450599/out/client/extension.js:66:296408)",
      "at async t.CellExecutionQueue.executeQueuedCells (/home/bozhou/.vscode-server/extensions/ms-toolsai.jupyter-2021.10.1101450599/out/client/extension.js:66:312326)",
      "at async t.CellExecutionQueue.start (/home/bozhou/.vscode-server/extensions/ms-toolsai.jupyter-2021.10.1101450599/out/client/extension.js:66:311862)"
     ]
    }
   ],
   "source": [
    "from utils import Data\n",
    "from const import *\n",
    "from torchvision import datasets, transforms\n",
    "train_dataset = datasets.SVHN(root=\"data/SVHN/\", split=\"train\",\n",
    "                                 download=True)\n"
   ]
  },
  {
   "cell_type": "code",
   "execution_count": null,
   "metadata": {},
   "outputs": [
    {
     "name": "stdout",
     "output_type": "stream",
     "text": [
      "(73257, 3, 32, 32)\n",
      "0.4376821219921112 0.4437697231769562 0.4728044271469116\n",
      "0.19803012907505035 0.2010156363248825 0.19703614711761475\n"
     ]
    }
   ],
   "source": [
    "print(train_dataset.data.shape)\n",
    "print(transforms.ToTensor()(train_dataset.data[:, 0, :, :]).mean().item(), transforms.ToTensor()(\n",
    "    train_dataset.data[:, 1, :, :]).mean().item(), transforms.ToTensor()(train_dataset.data[:, 2, :, :]).mean().item())\n",
    "print(transforms.ToTensor()(train_dataset.data[:, 0, :, :]).std().item(), transforms.ToTensor()(\n",
    "    train_dataset.data[:, 1, :, :]).std().item(), transforms.ToTensor()(train_dataset.data[:, 2, :, :]).std().item())"
   ]
  },
  {
   "cell_type": "code",
   "execution_count": null,
   "metadata": {},
   "outputs": [
    {
     "data": {
      "text/plain": [
       "1"
      ]
     },
     "execution_count": 3,
     "metadata": {},
     "output_type": "execute_result"
    }
   ],
   "source": [
    "lis = [True, False]\n",
    "sum(lis)"
   ]
  },
  {
   "cell_type": "code",
   "execution_count": null,
   "metadata": {},
   "outputs": [
    {
     "data": {
      "image/png": "[encoded data removed]",
      "text/plain": [
       "<Figure size 432x288 with 2 Axes>"
      ]
     },
     "metadata": {
      "needs_background": "light"
     },
     "output_type": "display_data"
    }
   ],
   "source": [
    "import numpy as np\n",
    "import matplotlib.pyplot as plt\n",
    "from matplotlib.collections import LineCollection\n",
    "from matplotlib.colors import ListedColormap, BoundaryNorm\n",
    "\n",
    "x = np.linspace(0, 3 * np.pi, 500)\n",
    "y = np.sin(x)\n",
    "dydx = np.cos(0.5 * (x[:-1] + x[1:]))  # first derivative\n",
    "\n",
    "points = np.array([x, y]).T.reshape(-1, 1, 2)\n",
    "segments = np.concatenate([points[:-1], points[1:]], axis=1)\n",
    "\n",
    "fig, axs = plt.subplots(2, 1, sharex=True, sharey=True)\n",
    "\n",
    "# norm = plt.Normalize(y.min(), y.max())\n",
    "lc = LineCollection(segments, cmap='viridis')\n",
    "# Set the values used for colormapping\n",
    "lc.set_array(y)\n",
    "# lc.set_linewidth(2)\n",
    "line = axs[0].add_collection(lc)\n",
    "\n",
    "# # Use a boundary norm instead\n",
    "# cmap = ListedColormap(['r', 'g', 'b'])\n",
    "# norm = BoundaryNorm([-1, -0.5, 0.5, 1], cmap.N)\n",
    "# lc = LineCollection(segments, cmap=cmap, norm=norm)\n",
    "# lc.set_array(dydx)\n",
    "# lc.set_linewidth(2)\n",
    "# line = axs[1].add_collection(lc)\n",
    "\n",
    "axs[0].set_xlim(x.min(), x.max())\n",
    "axs[0].set_ylim(-1.1, 1.1)\n",
    "plt.show()\n"
   ]
  },
  {
   "cell_type": "code",
   "execution_count": null,
   "metadata": {},
   "outputs": [],
   "source": [
    "# points = np.array([np.array(epochs), np.array(train_loss)]).T.reshape(-1, 1, 2)\n",
    "# segments = np.concatenate([points[:-1], points[1:]], axis=1)\n",
    "# lc = LineCollection(segments, cmap='viridis')\n",
    "# lc.set_array(np.array(epochs))\n",
    "# axs.add_collection(lc)\n",
    "# axs.set_xlim(0, max(epochs))\n",
    "# axs.set_ylim(0, max(train_loss) + 0.1)\n"
   ]
  },
  {
   "cell_type": "code",
   "execution_count": 3,
   "metadata": {},
   "outputs": [
    {
     "name": "stdout",
     "output_type": "stream",
     "text": [
      "{'user': 'root', 'num': [2, 3]}\n",
      "{'user': 'root', 'num': [2, 3]}\n",
      "{'user': 'runoob', 'num': [1, 2, 3]}\n"
     ]
    }
   ],
   "source": [
    "dict1 = {'user': 'runoob', 'num': [1, 2, 3]}\n",
    "\n",
    "dict2 = dict1          # 浅拷贝: 引用对象\n",
    "import copy\n",
    "dict3 = copy.deepcopy(dict1)  # 浅拷贝：深拷贝父对象（一级目录），子对象（二级目录）不拷贝，还是引用\n",
    "\n",
    "# 修改 data 数据\n",
    "dict1['user'] = 'root'\n",
    "dict1['num'].remove(1)\n",
    "\n",
    "# 输出结果\n",
    "print(dict1)\n",
    "print(dict2)\n",
    "print(dict3)\n"
   ]
  },
  {
   "cell_type": "code",
   "execution_count": 302,
   "metadata": {},
   "outputs": [],
   "source": [
    "import torch\n",
    "from models import Mlp\n",
    "from const import *\n",
    "from utils import Data\n",
    "import torch.nn.functional as F\n",
    "dataset = WINE\n",
    "train_data, test_data, ndim, nclass = Data().get(dataset)\n",
    "x = train_data[0]\n",
    "y = train_data[1]\n",
    "test_data = test_data\n",
    "model = Mlp(ndim, nclass)\n",
    "if torch.cuda.is_available():\n",
    "    model.cuda()\n",
    "    x = x.cuda()\n",
    "    y = y.cuda()\n",
    "\n",
    "state_dict = torch.load(\"model/tmp\")\n"
   ]
  },
  {
   "cell_type": "code",
   "execution_count": 303,
   "metadata": {},
   "outputs": [
    {
     "name": "stdout",
     "output_type": "stream",
     "text": [
      "1.0918453931808472\n"
     ]
    }
   ],
   "source": [
    "model.load_state_dict(state_dict)\n",
    "preds = model(x)\n",
    "loss = F.cross_entropy(preds, y.long())\n",
    "loss.item()\n",
    "print(loss.item())\n"
   ]
  },
  {
   "cell_type": "code",
   "execution_count": 304,
   "metadata": {},
   "outputs": [
    {
     "data": {
      "text/plain": [
       "1.0926202535629272"
      ]
     },
     "execution_count": 304,
     "metadata": {},
     "output_type": "execute_result"
    }
   ],
   "source": [
    "for param in model.parameters():\n",
    "    param.data += torch.randn(param.size())/100\n",
    "preds = model(x)\n",
    "loss = F.cross_entropy(preds, y.long())\n",
    "loss.item()\n"
   ]
  },
  {
   "cell_type": "code",
   "execution_count": 309,
   "metadata": {},
   "outputs": [
    {
     "name": "stderr",
     "output_type": "stream",
     "text": [
      "/Library/Frameworks/Python.framework/Versions/3.7/lib/python3.7/site-packages/sklearn/utils/validation.py:63: DataConversionWarning: A column-vector y was passed when a 1d array was expected. Please change the shape of y to (n_samples, ), for example using ravel().\n",
      "  return f(*args, **kwargs)\n"
     ]
    },
    {
     "data": {
      "text/plain": [
       "120"
      ]
     },
     "execution_count": 309,
     "metadata": {},
     "output_type": "execute_result"
    }
   ],
   "source": [
    "import pandas as pd\n",
    "import sklearn.preprocessing as sp\n",
    "import numpy as np\n",
    "\n",
    "LabelIndex = 0\n",
    "path = \"data/wine/wine.data\"\n",
    "df = pd.read_csv(path, header=None)\n",
    "dataset = np.column_stack((df.values[:, 1:],\n",
    "                           sp.LabelEncoder().fit_transform(df[[LabelIndex]].values)))\n",
    "dataset = np.array(dataset, dtype=float)\n",
    "dataset = torch.Tensor(dataset)\n",
    "if torch.cuda.is_available():\n",
    "    dataset = dataset.cuda()\n",
    "counter = {0:0,1:0,2:0}\n",
    "train_index = []\n",
    "test_index = []\n",
    "for index in range(len(dataset)):\n",
    "    item = dataset[index]\n",
    "    if counter[int(item[-1])] < 40:\n",
    "        counter[int(item[-1])] += 1\n",
    "        train_index.append(index)\n",
    "    else:\n",
    "        test_index.append(index)\n",
    "train_data = dataset.index_select(0, torch.tensor(train_index))\n",
    "test_data = dataset.index_select(0, torch.tensor(test_index))\n",
    "x_train = train_data[:,:-1]\n",
    "y_train = train_data[:,-1]\n",
    "x_test = test_data[:,:-1]\n",
    "y_test = test_data[:,-1]\n",
    "len(x_train)\n"
   ]
  },
  {
   "cell_type": "code",
   "execution_count": 16,
   "metadata": {},
   "outputs": [
    {
     "name": "stderr",
     "output_type": "stream",
     "text": [
      "/Library/Frameworks/Python.framework/Versions/3.7/lib/python3.7/site-packages/sklearn/utils/validation.py:63: DataConversionWarning: A column-vector y was passed when a 1d array was expected. Please change the shape of y to (n_samples, ), for example using ravel().\n",
      "  return f(*args, **kwargs)\n"
     ]
    },
    {
     "data": {
      "text/plain": [
       "tensor([[1, 0, 0],\n",
       "        [1, 0, 0],\n",
       "        [1, 0, 0],\n",
       "        [1, 0, 0],\n",
       "        [1, 0, 0],\n",
       "        [1, 0, 0],\n",
       "        [1, 0, 0],\n",
       "        [1, 0, 0],\n",
       "        [1, 0, 0],\n",
       "        [1, 0, 0],\n",
       "        [1, 0, 0],\n",
       "        [1, 0, 0],\n",
       "        [1, 0, 0],\n",
       "        [1, 0, 0],\n",
       "        [1, 0, 0],\n",
       "        [1, 0, 0],\n",
       "        [1, 0, 0],\n",
       "        [1, 0, 0],\n",
       "        [1, 0, 0],\n",
       "        [1, 0, 0],\n",
       "        [1, 0, 0],\n",
       "        [1, 0, 0],\n",
       "        [1, 0, 0],\n",
       "        [1, 0, 0],\n",
       "        [1, 0, 0],\n",
       "        [1, 0, 0],\n",
       "        [1, 0, 0],\n",
       "        [1, 0, 0],\n",
       "        [1, 0, 0],\n",
       "        [1, 0, 0],\n",
       "        [1, 0, 0],\n",
       "        [1, 0, 0],\n",
       "        [1, 0, 0],\n",
       "        [1, 0, 0],\n",
       "        [1, 0, 0],\n",
       "        [1, 0, 0],\n",
       "        [1, 0, 0],\n",
       "        [1, 0, 0],\n",
       "        [1, 0, 0],\n",
       "        [1, 0, 0],\n",
       "        [0, 1, 0],\n",
       "        [0, 1, 0],\n",
       "        [0, 1, 0],\n",
       "        [0, 1, 0],\n",
       "        [0, 1, 0],\n",
       "        [0, 1, 0],\n",
       "        [0, 1, 0],\n",
       "        [0, 1, 0],\n",
       "        [0, 1, 0],\n",
       "        [0, 1, 0],\n",
       "        [0, 1, 0],\n",
       "        [0, 1, 0],\n",
       "        [0, 1, 0],\n",
       "        [0, 1, 0],\n",
       "        [0, 1, 0],\n",
       "        [0, 1, 0],\n",
       "        [0, 1, 0],\n",
       "        [0, 1, 0],\n",
       "        [0, 1, 0],\n",
       "        [0, 1, 0],\n",
       "        [0, 1, 0],\n",
       "        [0, 1, 0],\n",
       "        [0, 1, 0],\n",
       "        [0, 1, 0],\n",
       "        [0, 1, 0],\n",
       "        [0, 1, 0],\n",
       "        [0, 1, 0],\n",
       "        [0, 1, 0],\n",
       "        [0, 1, 0],\n",
       "        [0, 1, 0],\n",
       "        [0, 1, 0],\n",
       "        [0, 1, 0],\n",
       "        [0, 1, 0],\n",
       "        [0, 1, 0],\n",
       "        [0, 1, 0],\n",
       "        [0, 1, 0],\n",
       "        [0, 1, 0],\n",
       "        [0, 1, 0],\n",
       "        [0, 1, 0],\n",
       "        [0, 1, 0],\n",
       "        [0, 0, 1],\n",
       "        [0, 0, 1],\n",
       "        [0, 0, 1],\n",
       "        [0, 0, 1],\n",
       "        [0, 0, 1],\n",
       "        [0, 0, 1],\n",
       "        [0, 0, 1],\n",
       "        [0, 0, 1],\n",
       "        [0, 0, 1],\n",
       "        [0, 0, 1],\n",
       "        [0, 0, 1],\n",
       "        [0, 0, 1],\n",
       "        [0, 0, 1],\n",
       "        [0, 0, 1],\n",
       "        [0, 0, 1],\n",
       "        [0, 0, 1],\n",
       "        [0, 0, 1],\n",
       "        [0, 0, 1],\n",
       "        [0, 0, 1],\n",
       "        [0, 0, 1],\n",
       "        [0, 0, 1],\n",
       "        [0, 0, 1],\n",
       "        [0, 0, 1],\n",
       "        [0, 0, 1],\n",
       "        [0, 0, 1],\n",
       "        [0, 0, 1],\n",
       "        [0, 0, 1],\n",
       "        [0, 0, 1],\n",
       "        [0, 0, 1],\n",
       "        [0, 0, 1],\n",
       "        [0, 0, 1],\n",
       "        [0, 0, 1],\n",
       "        [0, 0, 1],\n",
       "        [0, 0, 1],\n",
       "        [0, 0, 1],\n",
       "        [0, 0, 1],\n",
       "        [0, 0, 1],\n",
       "        [0, 0, 1],\n",
       "        [0, 0, 1],\n",
       "        [0, 0, 1]])"
      ]
     },
     "execution_count": 16,
     "metadata": {},
     "output_type": "execute_result"
    }
   ],
   "source": [
    "import torch.nn.functional as F\n",
    "import torch\n",
    "from utils import Data\n",
    "train_data, test_data, ndim, nclass = Data().get(WINE)\n",
    "F.one_hot(train_data[1].long())\n",
    "# train_data[1].dtype"
   ]
  }
 ],
 "metadata": {
  "interpreter": {
   "hash": "adb185272c58cef8f5ac16c0fe7ab4932aa7a03f171dfbe06ccc99104d35f5f3"
  },
  "kernelspec": {
   "display_name": "Python 3.8.10 64-bit ('test': conda)",
   "language": "python",
   "name": "python3"
  },
  "language_info": {
   "codemirror_mode": {
    "name": "ipython",
    "version": 3
   },
   "file_extension": ".py",
   "mimetype": "text/x-python",
   "name": "python",
   "nbconvert_exporter": "python",
   "pygments_lexer": "ipython3",
   "version": "3.7.7"
  },
  "orig_nbformat": 4
 },
 "nbformat": 4,
 "nbformat_minor": 2
}
